{
 "cells": [
  {
   "cell_type": "code",
   "execution_count": 3,
   "id": "f0843890-d5fe-4554-977d-cc006eb45d90",
   "metadata": {},
   "outputs": [
    {
     "name": "stderr",
     "output_type": "stream",
     "text": [
      "[2024-06-02 03:56:14,077]: Creating directory:.github\\workflows for the file .gitkeep:\n",
      "[2024-06-02 03:56:14,079]: Creating empty file: .github\\workflows\\.gitkeep:\n",
      "[2024-06-02 03:56:14,082]: Creating directory:src\\textSummarizer for the file __init__.py:\n",
      "[2024-06-02 03:56:14,084]: Creating empty file: src\\textSummarizer\\__init__.py:\n",
      "[2024-06-02 03:56:14,086]: Creating directory:src\\textSummarizer\\conponents for the file __init__.py:\n",
      "[2024-06-02 03:56:14,088]: Creating empty file: src\\textSummarizer\\conponents\\__init__.py:\n",
      "[2024-06-02 03:56:14,090]: Creating directory:src\\textSummarizer\\utils for the file __init__.py:\n",
      "[2024-06-02 03:56:14,093]: Creating empty file: src\\textSummarizer\\utils\\__init__.py:\n",
      "[2024-06-02 03:56:14,095]: Creating directory:src\\textSummarizer\\utils for the file common.py:\n",
      "[2024-06-02 03:56:14,099]: Creating empty file: src\\textSummarizer\\utils\\common.py:\n",
      "[2024-06-02 03:56:14,100]: Creating directory:src\\textSummarizer\\logging for the file __init__.py:\n",
      "[2024-06-02 03:56:14,103]: Creating empty file: src\\textSummarizer\\logging\\__init__.py:\n",
      "[2024-06-02 03:56:14,104]: Creating directory:src\\textSummarizer\\config for the file __init__.py:\n",
      "[2024-06-02 03:56:14,104]: Creating empty file: src\\textSummarizer\\config\\__init__.py:\n",
      "[2024-06-02 03:56:14,108]: Creating directory:src\\textSummarizer\\config for the file configuration.py:\n",
      "[2024-06-02 03:56:14,113]: Creating empty file: src\\textSummarizer\\config\\configuration.py:\n",
      "[2024-06-02 03:56:14,118]: Creating directory:src\\textSummarizer\\pipeline for the file __init__.py:\n",
      "[2024-06-02 03:56:14,118]: Creating empty file: src\\textSummarizer\\pipeline\\__init__.py:\n",
      "[2024-06-02 03:56:14,135]: Creating directory:src\\textSummarizer\\entity for the file __init__.py:\n",
      "[2024-06-02 03:56:14,135]: Creating empty file: src\\textSummarizer\\entity\\__init__.py:\n",
      "[2024-06-02 03:56:14,135]: Creating directory:src\\textSummarizer\\constants for the file __init__.py:\n",
      "[2024-06-02 03:56:14,135]: Creating empty file: src\\textSummarizer\\constants\\__init__.py:\n",
      "[2024-06-02 03:56:14,151]: Creating directory:config for the file config.yaml:\n",
      "[2024-06-02 03:56:14,152]: Creating empty file: config\\config.yaml:\n",
      "[2024-06-02 03:56:14,156]: Creating empty file: params.yaml:\n",
      "[2024-06-02 03:56:14,159]: Creating empty file: app.py:\n",
      "[2024-06-02 03:56:14,162]: Creating empty file: main.py:\n",
      "[2024-06-02 03:56:14,165]: Creating empty file: Dockerfile:\n",
      "[2024-06-02 03:56:14,169]: Creating empty file: requirements.txt:\n",
      "[2024-06-02 03:56:14,171]: Creating empty file: setup.py:\n",
      "[2024-06-02 03:56:14,173]: Creating directory:research for the file trials.ipynb:\n",
      "[2024-06-02 03:56:14,174]: Creating empty file: research\\trials.ipynb:\n"
     ]
    }
   ],
   "source": [
    "import os\n",
    "from pathlib import Path\n",
    "import logging\n",
    "\n",
    "logging.basicConfig(level=logging.INFO, format='[%(asctime)s]: %(message)s:')\n",
    "\n",
    "\n",
    "project_name = \"textSummarizer\"\n",
    "\n",
    "list_of_files = [\n",
    "    \".github/workflows/.gitkeep\",\n",
    "    f\"src/{project_name}/__init__.py\",\n",
    "    f\"src/{project_name}/conponents/__init__.py\",\n",
    "    f\"src/{project_name}/utils/__init__.py\",\n",
    "    f\"src/{project_name}/utils/common.py\",\n",
    "    f\"src/{project_name}/logging/__init__.py\",\n",
    "    f\"src/{project_name}/config/__init__.py\",\n",
    "    f\"src/{project_name}/config/configuration.py\",\n",
    "    f\"src/{project_name}/pipeline/__init__.py\",\n",
    "    f\"src/{project_name}/entity/__init__.py\",\n",
    "    f\"src/{project_name}/constants/__init__.py\",\n",
    "    \"config/config.yaml\",\n",
    "    \"params.yaml\",\n",
    "    \"app.py\",\n",
    "    \"main.py\",\n",
    "    \"Dockerfile\",\n",
    "    \"requirements.txt\",\n",
    "    \"setup.py\",\n",
    "    \"research/trials.ipynb\",\n",
    "\n",
    "]\n",
    "\n",
    "\n",
    "for filepath in list_of_files:\n",
    "    filepath = Path(filepath)\n",
    "    filedir, filename = os.path.split(filepath)\n",
    "\n",
    "    if filedir != \"\":\n",
    "        os.makedirs(filedir, exist_ok=True)\n",
    "        logging.info(f\"Creating directory:{filedir} for the file {filename}\")\n",
    "\n",
    "    \n",
    "    if (not os.path.exists(filepath)) or (os.path.getsize(filepath) == 0):\n",
    "        with open(filepath,'w') as f:\n",
    "            pass\n",
    "            logging.info(f\"Creating empty file: {filepath}\")\n",
    "\n",
    "\n",
    "    \n",
    "    else:\n",
    "        logging.info(f\"{filename} is already exists\")"
   ]
  },
  {
   "cell_type": "code",
   "execution_count": 6,
   "id": "8f416a3a-9f27-48ca-9271-5a9e2d3f4e9f",
   "metadata": {},
   "outputs": [],
   "source": [
    "!python app.py\n"
   ]
  },
  {
   "cell_type": "code",
   "execution_count": null,
   "id": "f88f01b6-a950-4ea6-a18e-b9f32cf3924a",
   "metadata": {},
   "outputs": [],
   "source": []
  }
 ],
 "metadata": {
  "kernelspec": {
   "display_name": "Python 3 (ipykernel)",
   "language": "python",
   "name": "python3"
  },
  "language_info": {
   "codemirror_mode": {
    "name": "ipython",
    "version": 3
   },
   "file_extension": ".py",
   "mimetype": "text/x-python",
   "name": "python",
   "nbconvert_exporter": "python",
   "pygments_lexer": "ipython3",
   "version": "3.9.9"
  }
 },
 "nbformat": 4,
 "nbformat_minor": 5
}
